{
  "nbformat": 4,
  "nbformat_minor": 0,
  "metadata": {
    "colab": {
      "name": "AI_tictactoe.ipynb",
      "provenance": [],
      "collapsed_sections": [],
      "authorship_tag": "ABX9TyNt9bsOQiGg+dbC27Fd1Fe0",
      "include_colab_link": true
    },
    "kernelspec": {
      "name": "python3",
      "display_name": "Python 3"
    },
    "language_info": {
      "name": "python"
    }
  },
  "cells": [
    {
      "cell_type": "markdown",
      "metadata": {
        "id": "view-in-github",
        "colab_type": "text"
      },
      "source": [
        "<a href=\"https://colab.research.google.com/github/a-brice/projet/blob/main/ml-minmax-algo/AI_tictactoe.ipynb\" target=\"_parent\"><img src=\"https://colab.research.google.com/assets/colab-badge.svg\" alt=\"Open In Colab\"/></a>"
      ]
    },
    {
      "cell_type": "markdown",
      "metadata": {
        "id": "AGK4nK8Qte-i"
      },
      "source": [
        "### **Visualisation de l'algorithme du MinMax par le jeu du morpion**"
      ]
    },
    {
      "cell_type": "code",
      "metadata": {
        "id": "_nuwpRUyp1Nt"
      },
      "source": [
        "# -*- coding: utf-8 -*-\n",
        "\"\"\"\n",
        "Created on Sun Apr  4 01:04:22 2021\n",
        "\n",
        "@author: brice\n",
        "\"\"\"\n",
        "\n",
        "\n",
        "import pandas as pd\n",
        "import numpy as np\n",
        "import time\n",
        "   "
      ],
      "execution_count": 37,
      "outputs": []
    },
    {
      "cell_type": "code",
      "metadata": {
        "id": "88T2-RLcqFVL"
      },
      "source": [
        "\n",
        "def creation_table():\n",
        "    plateau = np.array([['*' for i in range(3)] for j in range(3)])\n",
        "    return plateau\n",
        "\n",
        "\n",
        "    \n",
        "def afficher_plateau(plateau):\n",
        "    df = pd.DataFrame(plateau, index=['','',''], columns=['','',''])\n",
        "    print('\\n', df, '\\n', sep='')\n",
        "      "
      ],
      "execution_count": 38,
      "outputs": []
    },
    {
      "cell_type": "markdown",
      "metadata": {
        "id": "aDnT5vZHxIvN"
      },
      "source": [
        "Définitons des méthodes nécessaire concernant l'état de la partie jouée."
      ]
    },
    {
      "cell_type": "code",
      "metadata": {
        "id": "tcIfQdCZqt6p"
      },
      "source": [
        "  \n",
        "def actions(table):\n",
        "    ''' Retourne une liste d'action (placement point) pouvant être jouer '''\n",
        "    listepossible = []\n",
        "    for i in range(3):\n",
        "        for j in range(3):\n",
        "            if table[i,j] == '*':\n",
        "                listepossible.append((i,j))\n",
        "    return listepossible\n",
        "\n",
        "\n",
        "def terminal_test(table):\n",
        "    ''' Détermine si l'état du plateau est un état final '''\n",
        "    if not actions(table):\n",
        "        return True\n",
        "    \n",
        "    return True if IA('X').utility(table) != 0 or IA('O').utility(table) != 0 else False\n",
        "\n",
        "\n",
        "def results(table,action, symbol):\n",
        "    ''' Permet de jouer de faire une action sur le plateau ''' \n",
        "    tab = np.array(table)\n",
        "\n",
        "    if not action in [(i,j) for i in range(3) for j in range(3)]:\n",
        "        print('Placement hors du plateau')\n",
        "    elif not action in actions(table):\n",
        "        print('Impossible : il ya déjà un pion')\n",
        "    else:\n",
        "        tab[action] = symbol\n",
        "        \n",
        "    return tab\n",
        "        "
      ],
      "execution_count": 39,
      "outputs": []
    },
    {
      "cell_type": "markdown",
      "metadata": {
        "id": "3YCVhNqRuqdw"
      },
      "source": [
        "# Définition de la classe IA \n",
        "Cette classe permettra de jouer contre l'ordinateur qui sera d'une intélligence et pourras prédire à l'avance les coup pouvant être jouer afin de les contrer au mieux"
      ]
    },
    {
      "cell_type": "code",
      "metadata": {
        "id": "_XZKSXkUqLPW"
      },
      "source": [
        "               \n",
        "class IA:\n",
        "    \n",
        "    def __init__(self,symbol):\n",
        "        self.symbol = symbol\n",
        "        self.symbol_inv = 'X' if symbol == 'O' else 'O'\n",
        "            \n",
        "    \n",
        "        \n",
        "    def utility(self, table):\n",
        "        u = 0\n",
        "        \n",
        "        # Diagonale 1\n",
        "        if [table[i,i] for i in range(3)].count(self.symbol) == 3:\n",
        "            u = 1\n",
        "        elif [table[i,i] for i in range(3)].count(self.symbol_inv) == 3:\n",
        "            u = -1\n",
        "        #Diagonale 2\n",
        "        elif [table[i] for i in zip(range(3),range(2,-1,-1))].count(self.symbol) == 3:\n",
        "            u = 1\n",
        "        elif [table[i] for i in zip(range(3),range(2,-1,-1))].count(self.symbol_inv) == 3:\n",
        "            u = -1\n",
        "        else:   # Ligne et Colonne\n",
        "          for i in range(3):\n",
        "            if list(table[:,i]).count(self.symbol) >= 3 or list(table[i,:]).count(self.symbol) >= 3:\n",
        "              u = 1\n",
        "            if list(table[:,i]).count(self.symbol_inv) >= 3 or list(table[i,:]).count(self.symbol_inv) >= 3:\n",
        "              u = -1\n",
        "         \n",
        "        return u\n",
        "    \n",
        "    \n",
        "    \n",
        "    def minimax_decision(self, table):\n",
        "        \n",
        "        res = {}\n",
        "\n",
        "        for a in actions(table):\n",
        "            res[tuple(a)] = self.min_value(results(table,a,self.symbol)) \n",
        "   \n",
        "        return max(res,key=res.get)\n",
        "        \n",
        "            \n",
        "        \n",
        "    def min_value(self, table):\n",
        "        if terminal_test(table):\n",
        "            return self.utility(table)\n",
        "    \n",
        "        result = [results(table,a,self.symbol_inv) for a in actions(table)]\n",
        "        v = min(self.max_value(res) for res in result)\n",
        "        return v\n",
        "    \n",
        "    \n",
        "    \n",
        "    def max_value(self, table):\n",
        "        if terminal_test(table):\n",
        "            return self.utility(table)\n",
        "    \n",
        "        result = [results(table,a, self.symbol) for a in actions(table)]\n",
        "        v = max(self.min_value(res) for res in result)\n",
        "        v = self.utility(table)\n",
        "        return v\n",
        "\n"
      ],
      "execution_count": 40,
      "outputs": []
    },
    {
      "cell_type": "markdown",
      "metadata": {
        "id": "KM4iUOp8v1hj"
      },
      "source": [
        "# Création d'un mode **SOLO**\n",
        "Cette méthode permettra au joueur d'affronter l'ordinateur "
      ]
    },
    {
      "cell_type": "code",
      "metadata": {
        "id": "eIca3YYrqQk0"
      },
      "source": [
        "\n",
        "def mode_solo():\n",
        "    global table\n",
        "    ia = IA('O')\n",
        "    \n",
        "    while not terminal_test(table):\n",
        "        saisi = tuple()\n",
        "        while not saisi:\n",
        "            saisi = tuple(input('Indiquer la position à jouer : '))\n",
        "            saisi = tuple([int(s) for s in saisi if s.isnumeric()])\n",
        "            print(saisi, end='')\n",
        "            if not saisi in tuple((i,j)for i in range(3) for j in range(3)):\n",
        "                print(' -> La position indiquée est incohérente')\n",
        "                saisi = tuple()\n",
        "            elif table[saisi] != '*':\n",
        "                print(\" -> Un pion a déjà été placée \")\n",
        "                saisi = tuple()\n",
        "            \n",
        "        table = results(table, saisi,'X')\n",
        "        afficher_plateau(table)\n",
        "        \n",
        "        if terminal_test(table):  #Juste après la saisie joueur\n",
        "            break\n",
        "        \n",
        "        print(\"\\n\",\"L'IA joue : \", sep='')\n",
        "        time.sleep(1)\n",
        "        actIA = ia.minimax_decision(table)\n",
        "        table = results(table,actIA, ia.symbol)\n",
        "        afficher_plateau(table)\n",
        "        \n",
        "    if ia.utility(table) == 1:\n",
        "        print(\"C'est normal, tu ne pouvais pas rivaliser contre moi\")\n",
        "    elif ia.utility(table) == 0:\n",
        "        print('Match nul.. On relance !')\n",
        "    elif ia.utility(table) == -1:\n",
        "        print('Coup de chance pour toi ...')\n",
        "    \n"
      ],
      "execution_count": 41,
      "outputs": []
    },
    {
      "cell_type": "markdown",
      "metadata": {
        "id": "vBHXRYMtwTKW"
      },
      "source": [
        "# Création d'un mode **DUEL**\n",
        "La méthode suivante permettra d'observer une partie opposant 2 **IA** dotées du même niveau d'intélligence"
      ]
    },
    {
      "cell_type": "code",
      "metadata": {
        "id": "GqjNqV19qYYY"
      },
      "source": [
        "\n",
        "def duel_IA():\n",
        "\n",
        "    global table\n",
        "    ia1 = IA('O')\n",
        "    ia2 = IA('X')\n",
        "    \n",
        "    premiercoup = tuple([np.random.randint(0,3),np.random.randint(0,3)])\n",
        "    table = results(table,premiercoup, ia2.symbol)\n",
        "    print(\"Le premier coup (aléatoire) a été joué par l'IA2\")\n",
        "    afficher_plateau(table)\n",
        "    time.sleep(3)\n",
        "    \n",
        "    while not terminal_test(table):\n",
        "        print(\"\\n\",\"L'IA1 joue : \", sep='')\n",
        "        time.sleep(3)\n",
        "        actIA1 = ia1.minimax_decision(table)\n",
        "        table = results(table,actIA1, ia1.symbol)\n",
        "        afficher_plateau(table)\n",
        "        \n",
        "        if terminal_test(table):# après le coup du 1er IA\n",
        "            break\n",
        "        \n",
        "        print(\"\\n\",\"L'IA2 joue : \", sep='')\n",
        "        time.sleep(3)\n",
        "        actIA2 = ia2.minimax_decision(table)\n",
        "        table = results(table,actIA2, ia2.symbol)\n",
        "        afficher_plateau(table)\n",
        "    \n",
        "    \n",
        "    if ia1.utility(table) == 1:\n",
        "        print(\"vainqueur : IA1\")\n",
        "    elif ia1.utility(table) == 0:\n",
        "        print('Match nul royale')\n",
        "    elif ia1.utility(table) == -1:\n",
        "        print('Vainqueur : IA2')\n"
      ],
      "execution_count": 42,
      "outputs": []
    },
    {
      "cell_type": "markdown",
      "metadata": {
        "id": "Rj3apdMfw1IB"
      },
      "source": [
        "# **Programme principal**"
      ]
    },
    {
      "cell_type": "code",
      "metadata": {
        "colab": {
          "base_uri": "https://localhost:8080/"
        },
        "id": "eEo1abb7qcJn",
        "outputId": "cc3abfc0-ded6-4bce-aaaf-5f2fe194d9ae"
      },
      "source": [
        "\n",
        "if __name__ == '__main__':\n",
        "    table = creation_table()\n",
        "    afficher_plateau(table)\n",
        "    choice = int(input('1 : You vs IA\\t||\\t2: IA vs IA \\n\\nVotre choix : '))\n",
        "    if choice == 1:\n",
        "        mode_solo()\n",
        "    elif choice == 2:\n",
        "        duel_IA()\n",
        "        "
      ],
      "execution_count": 43,
      "outputs": [
        {
          "output_type": "stream",
          "text": [
            "\n",
            "         \n",
            "  *  *  *\n",
            "  *  *  *\n",
            "  *  *  *\n",
            "\n",
            "1 : You vs IA\t||\t2: IA vs IA \n",
            "\n",
            "Votre choix : 1\n",
            "Indiquer la position à jouer : 1,1\n",
            "(1, 1)\n",
            "         \n",
            "  *  *  *\n",
            "  *  X  *\n",
            "  *  *  *\n",
            "\n",
            "\n",
            "L'IA joue : \n",
            "\n",
            "         \n",
            "  O  *  *\n",
            "  *  X  *\n",
            "  *  *  *\n",
            "\n",
            "Indiquer la position à jouer : 2,0\n",
            "(2, 0)\n",
            "         \n",
            "  O  *  *\n",
            "  *  X  *\n",
            "  X  *  *\n",
            "\n",
            "\n",
            "L'IA joue : \n",
            "\n",
            "         \n",
            "  O  *  O\n",
            "  *  X  *\n",
            "  X  *  *\n",
            "\n",
            "Indiquer la position à jouer : (0,1)\n",
            "(0, 1)\n",
            "         \n",
            "  O  X  O\n",
            "  *  X  *\n",
            "  X  *  *\n",
            "\n",
            "\n",
            "L'IA joue : \n",
            "\n",
            "         \n",
            "  O  X  O\n",
            "  *  X  *\n",
            "  X  O  *\n",
            "\n",
            "Indiquer la position à jouer : 2,2\n",
            "(2, 2)\n",
            "         \n",
            "  O  X  O\n",
            "  *  X  *\n",
            "  X  O  X\n",
            "\n",
            "\n",
            "L'IA joue : \n",
            "\n",
            "         \n",
            "  O  X  O\n",
            "  O  X  *\n",
            "  X  O  X\n",
            "\n",
            "Indiquer la position à jouer : 2,1\n",
            "(2, 1) -> Un pion a déjà été placée \n",
            "Indiquer la position à jouer : 1,2\n",
            "(1, 2)\n",
            "         \n",
            "  O  X  O\n",
            "  O  X  X\n",
            "  X  O  X\n",
            "\n",
            "Match nul.. On relance !\n"
          ],
          "name": "stdout"
        }
      ]
    }
  ]
}