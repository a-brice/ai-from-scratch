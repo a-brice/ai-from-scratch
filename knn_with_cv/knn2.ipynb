{
  "nbformat": 4,
  "nbformat_minor": 0,
  "metadata": {
    "colab": {
      "name": "knn2.ipynb",
      "provenance": [],
      "collapsed_sections": [],
      "authorship_tag": "ABX9TyN0IduQG2Kb0ALzlAgruSOD",
      "include_colab_link": true
    },
    "kernelspec": {
      "name": "python3",
      "display_name": "Python 3"
    },
    "language_info": {
      "name": "python"
    }
  },
  "cells": [
    {
      "cell_type": "markdown",
      "metadata": {
        "id": "view-in-github",
        "colab_type": "text"
      },
      "source": [
        "<a href=\"https://colab.research.google.com/github/a-brice/AI-and-Machine_Learning/blob/main/ml-classification/knn2.ipynb\" target=\"_parent\"><img src=\"https://colab.research.google.com/assets/colab-badge.svg\" alt=\"Open In Colab\"/></a>"
      ]
    },
    {
      "cell_type": "code",
      "metadata": {
        "id": "2-PbF1XXfRIk"
      },
      "source": [
        "# -*- coding: utf-8 -*-\n",
        "\"\"\"\n",
        "Created on Fri Mar 26 21:47:58 2021\n",
        "\n",
        "@author: brice\n",
        "\n",
        "prérequis : importer les fichiers 'data.csv', 'preTest.csv' et 'finalTest.csv'\n",
        "\"\"\"\n",
        "\n",
        "from numpy import sqrt, zeros, trace\n",
        "import numpy as np\n",
        "import pandas as pd\n",
        "import random\n",
        "import time\n",
        "import matplotlib.pyplot as plt\n"
      ],
      "execution_count": null,
      "outputs": []
    },
    {
      "cell_type": "code",
      "metadata": {
        "id": "y_z3OWhPpUrB"
      },
      "source": [
        "\n",
        "def getdata(file, known_label=True):\n",
        "    data = []\n",
        "    df = pd.read_csv(file, header=None)\n",
        "    \n",
        "    if known_label:\n",
        "        df = normaliser(df.loc[: , 0:5]).join(df[6])\n",
        "    \n",
        "        for i in range(len(df)):\n",
        "          *obs, label = list(df.loc[i])\n",
        "          data.append(Element(label,obs))\n",
        "    \n",
        "    else:\n",
        "        df = normaliser(df.loc[: , 0:5])\n",
        "\n",
        "        for i in range(len(df)):\n",
        "          obs = list(df.loc[i])\n",
        "          data.append(Element('',obs))\n",
        "\n",
        "    return data     # tableau d'Element \n",
        "\n",
        "\n",
        "def normaliser(data):\n",
        "    mean = np.mean(data)\n",
        "    std = np.std(data)\n",
        "    data = (data - mean) / std\n",
        "    return data\n",
        "    \n"
      ],
      "execution_count": null,
      "outputs": []
    },
    {
      "cell_type": "code",
      "metadata": {
        "id": "QYGobO2epYmr"
      },
      "source": [
        "\n",
        "class Element:\n",
        "\n",
        "    Tdata, Vdata = [],[] # training-data, validation-data\n",
        "    datalabels = []\n",
        "    \n",
        "    def __init__(self, label, obs):\n",
        "        self.label = label.replace('\\n','') if label else '?'\n",
        "        self.obs = obs \n",
        "    \n",
        "    \n",
        "    def __str__(self):\n",
        "        return self.label\n",
        "    \n",
        "    def numlabel(lbl):\n",
        "        return Element.datalabels.index(lbl) if lbl in Element.datalabels else -1\n",
        "        \n",
        "    \n",
        "    \n",
        "    def distance(self, other):\n",
        "        assert len(self.obs) == len(other.obs) and isinstance(other, Element) \n",
        "        return sqrt(sum([(self.obs[i] - other.obs[i])**2 for i in range(len(self.obs))]))\n",
        "     \n",
        "    \n",
        "    def prediction(self, k):\n",
        "        ''' \n",
        "        On calcul la distance de tout les élements par rapport a l'instance courante \n",
        "        que l'on place dans un tableau trié par ordre croissant pour prendre les k-meilleurs \n",
        "        distances -> la prédiction sera le label dominant du tableau (qui revient le +)\n",
        "        '''\n",
        "\n",
        "        dist = sorted(Element.Tdata,key=self.distance)\n",
        "        kdist = dist[:k]\n",
        "        labels = [element.label for element in kdist]\n",
        "        \n",
        "        nbmax = max([labels.count(x) for x in labels])\n",
        "        predictions = [i for i in labels if labels.count(i) == nbmax ]\n",
        "        nbp = len(predictions)\n",
        "\n",
        "        prediction = predictions[0] if nbp == 1 else predictions[random.randint(0,nbp-1)]\n",
        "        return prediction    \n"
      ],
      "execution_count": null,
      "outputs": []
    },
    {
      "cell_type": "code",
      "metadata": {
        "id": "1heVZOxApbhM"
      },
      "source": [
        "\n",
        "class KNN:\n",
        "    \n",
        "    Alldata = []\n",
        "    \n",
        "    def __init__(self, d):\n",
        "        KNN.Alldata = d if d else None\n",
        "        \n",
        "        \n",
        "    def cross_iterateur(pas=50):\n",
        "        '''\n",
        "        Permet une cross validation :\n",
        "        -> retourne a chaque iteration des données de validation et d'entrainement différentes \n",
        "        -> toutes les données passent au moins une fois comme données d'entrainement et données de validation\n",
        "        '''\n",
        "        for i in range(len(KNN.Alldata)//pas):\n",
        "            newVdata = KNN.Alldata[i*pas:(i+1)*pas]\n",
        "            yield newVdata, [elmt for elmt in KNN.Alldata if not elmt in newVdata]\n",
        "    \n",
        "    \n",
        "    def cross_validation(k):\n",
        "        '''\n",
        "        Calcul de la matrice de confusion à l'aide de la cross_validation\n",
        "        Le résultant sera la matrice des moyennes des résultats obtenues en fonction de k \n",
        "        '''\n",
        "        nblabels = len(Element.datalabels)\n",
        "        mat_conf = zeros((nblabels,nblabels), dtype=int)\n",
        "        \n",
        "        for vdata, tdata in KNN.cross_iterateur(pas=len(KNN.Alldata)//5):\n",
        "            Element.Vdata, Element.Tdata =  vdata, tdata\n",
        "            \n",
        "            for data in Element.Vdata:     #test des donnée de validation\n",
        "                \n",
        "                l_reel = Element.numlabel(data.label)\n",
        "                l_predis = Element.numlabel(data.prediction(k))\n",
        "                \n",
        "                mat_conf[l_reel, l_predis] += 1\n",
        "            \n",
        "        \n",
        "        df = pd.DataFrame(mat_conf, columns=Element.datalabels, index=Element.datalabels)\n",
        "        \n",
        "        erreur = len(KNN.Alldata) - trace(mat_conf)\n",
        "       \n",
        "        #Voir la progression\n",
        "        '''\n",
        "        print(f'\\n\\nMatrice de confusion pour k = {k}: \\n')\n",
        "        print(df)\n",
        "        print('\\nfaux positif + vrai négatif = ', erreur)\n",
        "        '''        \n",
        "        return {'k':k, 'mat':df, 'err':erreur} # valeur de k, matrice de confusion, nombre d'erreurs\n",
        "    \n",
        "\n"
      ],
      "execution_count": null,
      "outputs": []
    },
    {
      "cell_type": "code",
      "metadata": {
        "id": "F-7uphbOpiyg"
      },
      "source": [
        "\n",
        "def apprentissage(alldata, range_k=30):\n",
        "\n",
        "  KNN(alldata)\n",
        "  Element.datalabels = list( set(x.label for x in alldata) )\n",
        "\n",
        "  Error = []\n",
        "    \n",
        "  best_k = {'k':0, 'mat':[], 'err':1000}\n",
        "  K = range(1,range_k)  # Initialisation du nombre de k à tester\n",
        "  for i in K:\n",
        "        \n",
        "      n_k = KNN.cross_validation(i)\n",
        "      Error.append(n_k['err'])\n",
        "        \n",
        "      if best_k['err'] > n_k['err']:\n",
        "          best_k = n_k\n",
        "            \n",
        "  \n",
        "  Element.Tdata = alldata\n",
        "  # observation \n",
        "  plt.plot(K, Error, label='Erreur de prédiction en fonction de k')\n",
        "  plt.legend()\n",
        "  plt.show()\n",
        "\n",
        "  return best_k    \n",
        "    \n"
      ],
      "execution_count": null,
      "outputs": []
    },
    {
      "cell_type": "code",
      "metadata": {
        "id": "kepkjIh6pmOw"
      },
      "source": [
        "\n",
        "def result_presentation():\n",
        "    global k, df, T_V_data, deb\n",
        "    \n",
        "    print(f'le meilleur k: {k[\"k\"]}', \n",
        "          \"Matrice de confusion : \", k['mat'], \n",
        "          f\"Taux d'erreur relevé: {k['err']/len(T_V_data)*100:.2f}%\",\n",
        "          sep='\\n\\n', end='\\n')\n",
        "    \n",
        "    print(f\"\\nEffectué en {(time.time()- deb):.2f} secondes\\n\", '_'*100,'\\n')\n",
        "    \n",
        "    #calcul du meilleur k sur les données de test (Final-data)\n",
        "    print('\\n','Tests des données finales :','\\n')\n",
        "    print(df, 'True value :' + str(list(df['Résultats']).count(True)), \n",
        "          f\"ratio : {(list(df['Résultats']).count(True)/len(df)):.2f}\", sep='\\n' )\n",
        "    \n"
      ],
      "execution_count": null,
      "outputs": []
    },
    {
      "cell_type": "code",
      "metadata": {
        "colab": {
          "base_uri": "https://localhost:8080/",
          "height": 1000
        },
        "id": "wE-RUZqUppb5",
        "outputId": "66daec56-f697-4b73-b945-89b73d271bf6"
      },
      "source": [
        "\n",
        "if __name__ == '__main__':\n",
        "    \n",
        "    deb = time.time()\n",
        "    alldata = getdata('data.csv') + getdata('preTest.csv')\n",
        "    N = len(alldata)\n",
        "    alldata = random.sample(alldata, N)\n",
        "    \n",
        "    #visualize(alldata)\n",
        "      \n",
        "    Fdata, T_V_data = alldata[:int(0.675*N)], alldata[int(0.675*N):] # Final test-data, Training and validation data\n",
        "    \n",
        "    \n",
        "    #calcul du meilleur k sur les données de test (Final-data)\n",
        "    k = apprentissage(T_V_data, range_k=20)\n",
        "\n",
        "    # prédiction des données de test \n",
        "    Ftest = [(elmt.label, elmt.prediction(k['k']), elmt.label == elmt.prediction(k['k'])) for elmt in Fdata]\n",
        "    df = pd.DataFrame(Ftest, columns=['Valeurs réelles', 'Valeurs prédites', 'Résultats'])\n",
        "    result_presentation()\n",
        "\n",
        "    # prediction des données finales\n",
        "    finaltest = getdata('finalTest.csv', False)\n",
        "    prediction = pd.Series([x.prediction(k['k']) for x in finaltest])\n",
        "    prediction.to_csv('akouvi_brice.txt', index=False, header=None)\n",
        "    print('','Données finales :', prediction.head(), '...', sep='\\n')\n"
      ],
      "execution_count": null,
      "outputs": [
        {
          "output_type": "display_data",
          "data": {
            "image/png": "[encoded data removed]",
            "text/plain": [
              "<Figure size 432x288 with 1 Axes>"
            ]
          },
          "metadata": {
            "tags": [],
            "needs_background": "light"
          }
        },
        {
          "output_type": "stream",
          "text": [
            "le meilleur k: 5\n",
            "\n",
            "Matrice de confusion : \n",
            "\n",
            "        classE  classD  classB  classC  classA\n",
            "classE      25       0       0       0       0\n",
            "classD       0     114       2       3       1\n",
            "classB       0       1     100       1      10\n",
            "classC       0       4       0     165       3\n",
            "classA       0       1      15       8      67\n",
            "\n",
            "Taux d'erreur relevé: 9.77%\n",
            "\n",
            "Effectué en 41.30 secondes\n",
            " ____________________________________________________________________________________________________ \n",
            "\n",
            "\n",
            " Tests des données finales : \n",
            "\n",
            "     Valeurs réelles Valeurs prédites  Résultats\n",
            "0             classC           classC       True\n",
            "1             classC           classC       True\n",
            "2             classC           classC       True\n",
            "3             classD           classD       True\n",
            "4             classC           classC       True\n",
            "...              ...              ...        ...\n",
            "1079          classC           classC       True\n",
            "1080          classC           classC       True\n",
            "1081          classD           classD       True\n",
            "1082          classC           classC       True\n",
            "1083          classC           classC       True\n",
            "\n",
            "[1084 rows x 3 columns]\n",
            "True value :960\n",
            "ratio : 0.89\n",
            "\n",
            "Données finales :\n",
            "0    classA\n",
            "1    classB\n",
            "2    classE\n",
            "3    classC\n",
            "4    classC\n",
            "dtype: object\n",
            "...\n"
          ],
          "name": "stdout"
        }
      ]
    },
    {
      "cell_type": "code",
      "metadata": {
        "colab": {
          "base_uri": "https://localhost:8080/"
        },
        "id": "DDrV7qxDFqPm",
        "outputId": "7867ad21-9e2b-4c63-bd1e-448998b4925f"
      },
      "source": [
        "\n",
        "print({i.label:[j.label for j in Element.Tdata].count(i.label) for i in Element.Tdata},\n",
        "len(Element.Tdata),\n",
        "len(Fdata)\n",
        ",sep='\\n')"
      ],
      "execution_count": null,
      "outputs": [
        {
          "output_type": "stream",
          "text": [
            "{'classB': 112, 'classD': 120, 'classA': 91, 'classC': 173, 'classE': 26}\n",
            "522\n",
            "1084\n"
          ],
          "name": "stdout"
        }
      ]
    },
    {
      "cell_type": "code",
      "metadata": {
        "colab": {
          "base_uri": "https://localhost:8080/",
          "height": 35
        },
        "id": "ZtTshB2O7rg8",
        "outputId": "13c03c48-ec79-4c12-9542-e838ba98ac65"
      },
      "source": [
        "e = Element('',[5.2632843390643895,1.1545952942730404,0.7634920471719945,1.4706419139352227,0.4256082149634392,0.04425470382202279])\n",
        "e.prediction(k['k'])"
      ],
      "execution_count": null,
      "outputs": [
        {
          "output_type": "execute_result",
          "data": {
            "application/vnd.google.colaboratory.intrinsic+json": {
              "type": "string"
            },
            "text/plain": [
              "'classE'"
            ]
          },
          "metadata": {
            "tags": []
          },
          "execution_count": 27
        }
      ]
    }
  ]
}